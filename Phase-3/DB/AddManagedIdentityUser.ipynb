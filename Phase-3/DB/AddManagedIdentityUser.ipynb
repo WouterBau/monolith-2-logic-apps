{
 "cells": [
  {
   "cell_type": "markdown",
   "metadata": {},
   "source": [
    "# Add Managed Identity User to server (master DB)"
   ]
  },
  {
   "cell_type": "code",
   "execution_count": null,
   "metadata": {},
   "outputs": [],
   "source": [
    "CREATE USER [la-we-report] FROM EXTERNAL PROVIDER;"
   ]
  },
  {
   "cell_type": "markdown",
   "metadata": {},
   "source": [
    "# Add Managed Identity User and set rights on Database"
   ]
  },
  {
   "cell_type": "code",
   "execution_count": null,
   "metadata": {},
   "outputs": [],
   "source": [
    "CREATE USER [la-we-report] FROM EXTERNAL PROVIDER;\n",
    "ALTER ROLE db_datareader ADD MEMBER [la-we-report];"
   ]
  }
 ],
 "metadata": {
  "language_info": {
   "name": "python"
  },
  "orig_nbformat": 4
 },
 "nbformat": 4,
 "nbformat_minor": 2
}
