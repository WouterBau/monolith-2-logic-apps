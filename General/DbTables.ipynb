{
    "metadata": {
        "kernelspec": {
            "name": "SQL",
            "display_name": "SQL",
            "language": "sql"
        },
        "language_info": {
            "name": "sql",
            "version": ""
        }
    },
    "nbformat_minor": 2,
    "nbformat": 4,
    "cells": [
        {
            "cell_type": "markdown",
            "source": [
                "# \\[dbo\\].\\[TypeAs\\]"
            ],
            "metadata": {
                "azdata_cell_guid": "e9771959-ba53-42b0-ae80-c6f56c80e89b"
            },
            "attachments": {}
        },
        {
            "cell_type": "code",
            "source": [
                "/****** Object:  Table [dbo].[TypeAs]    Script Date: 12/04/2022 00:33:26 ******/\r\n",
                "SET ANSI_NULLS ON\r\n",
                "GO\r\n",
                "SET QUOTED_IDENTIFIER ON\r\n",
                "GO\r\n",
                "CREATE TABLE [dbo].[TypeAs](\r\n",
                "\t[Id] [int] IDENTITY(1,1) NOT NULL,\r\n",
                "\t[Field1] [int] NOT NULL,\r\n",
                "\t[Field2] [int] NOT NULL\r\n",
                ") ON [PRIMARY]\r\n",
                "GO"
            ],
            "metadata": {
                "azdata_cell_guid": "60c4a592-a0d5-4a6f-bd9e-bb92d39d6a00"
            },
            "outputs": [],
            "execution_count": null
        },
        {
            "cell_type": "markdown",
            "source": [
                "# \\[dbo\\].\\[TypeBs\\]"
            ],
            "metadata": {
                "azdata_cell_guid": "d78ac0c2-24bd-493c-8f04-45e95a61999d"
            },
            "attachments": {}
        },
        {
            "cell_type": "code",
            "source": [
                "/****** Object:  Table [dbo].[TypeBs]    Script Date: 12/04/2022 00:33:26 ******/\r\n",
                "SET ANSI_NULLS ON\r\n",
                "GO\r\n",
                "SET QUOTED_IDENTIFIER ON\r\n",
                "GO\r\n",
                "CREATE TABLE [dbo].[TypeBs](\r\n",
                "\t[Id] [int] IDENTITY(1,1) NOT NULL,\r\n",
                "\t[Field1] [int] NOT NULL,\r\n",
                "\t[Field2] [int] NOT NULL,\r\n",
                "\t[Field3] [int] NOT NULL\r\n",
                ") ON [PRIMARY]\r\n",
                "GO"
            ],
            "metadata": {
                "azdata_cell_guid": "9d553a59-2ecb-4d1a-8e4a-cde7dfc4f0e9"
            },
            "outputs": [],
            "execution_count": null
        }
    ]
}